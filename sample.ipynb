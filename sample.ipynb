{
  "nbformat": 4,
  "nbformat_minor": 0,
  "metadata": {
    "colab": {
      "name": "sample.ipynb",
      "provenance": [],
      "toc_visible": true,
      "authorship_tag": "ABX9TyOLM2Og6LtVxN9yqgDoG/Nv",
      "include_colab_link": true
    },
    "kernelspec": {
      "name": "python3",
      "display_name": "Python 3"
    }
  },
  "cells": [
    {
      "cell_type": "markdown",
      "metadata": {
        "id": "view-in-github",
        "colab_type": "text"
      },
      "source": [
        "<a href=\"https://colab.research.google.com/github/Abrar26/Python_files/blob/master/sample.ipynb\" target=\"_parent\"><img src=\"https://colab.research.google.com/assets/colab-badge.svg\" alt=\"Open In Colab\"/></a>"
      ]
    },
    {
      "cell_type": "code",
      "metadata": {
        "colab": {
          "base_uri": "https://localhost:8080/"
        },
        "id": "xl7Lwm8uU1CU",
        "outputId": "3154051e-6b87-44c5-b1f9-e531cb98396a"
      },
      "source": [
        "import numpy as np\n",
        "data=np.loadtxt('Game.txt',delimiter='\\t',skiprows=1)\n",
        "print(data)"
      ],
      "execution_count": null,
      "outputs": [
        {
          "output_type": "stream",
          "text": [
            "[[ 1900. 30000.  4000. 48308.]\n",
            " [ 1901. 47200.  6100. 48200.]\n",
            " [ 1902. 70200.  9800. 41500.]\n",
            " [ 1903. 77400. 35200. 38200.]\n",
            " [ 1904. 36300. 59400. 40600.]\n",
            " [ 1905. 20600. 41700. 39800.]\n",
            " [ 1906. 18100. 19000. 38608.]\n",
            " [ 1907. 21400. 13000. 42300.]\n",
            " [ 1908. 22000.  8300. 44500.]\n",
            " [ 1909. 25400.  9100. 42100.]\n",
            " [ 1910. 27100.  7400. 46000.]\n",
            " [ 1911. 40300.  8000. 46800.]\n",
            " [ 1912. 57000. 12300. 43800.]\n",
            " [ 1913. 76600. 19500. 40900.]\n",
            " [ 1914. 52300. 45700. 39400.]\n",
            " [ 1915. 19500. 51100. 39000.]\n",
            " [ 1916. 11200. 29700. 36700.]\n",
            " [ 1917.  7600. 15800. 41800.]\n",
            " [ 1918. 14600.  9700. 43300.]\n",
            " [ 1919. 16200. 10100. 41300.]\n",
            " [ 1920. 24700.  8600. 47300.]]\n"
          ],
          "name": "stdout"
        }
      ]
    },
    {
      "cell_type": "code",
      "metadata": {
        "colab": {
          "base_uri": "https://localhost:8080/"
        },
        "id": "T9lX6U2pU8za",
        "outputId": "68ca4c7b-84d5-4e9c-8c61-ae082030af00"
      },
      "source": [
        "year,rabbit,cat,carrot=data.T\n",
        "print(year)\n",
        "print(\"*****************************\")\n",
        "print(rabbit)\n",
        "print(\"*****************************\")\n",
        "print(cat)\n",
        "print(\"*****************************\")\n",
        "print(carrot)"
      ],
      "execution_count": null,
      "outputs": [
        {
          "output_type": "stream",
          "text": [
            "[1900. 1901. 1902. 1903. 1904. 1905. 1906. 1907. 1908. 1909. 1910. 1911.\n",
            " 1912. 1913. 1914. 1915. 1916. 1917. 1918. 1919. 1920.]\n",
            "*****************************\n",
            "[30000. 47200. 70200. 77400. 36300. 20600. 18100. 21400. 22000. 25400.\n",
            " 27100. 40300. 57000. 76600. 52300. 19500. 11200.  7600. 14600. 16200.\n",
            " 24700.]\n",
            "*****************************\n",
            "[ 4000.  6100.  9800. 35200. 59400. 41700. 19000. 13000.  8300.  9100.\n",
            "  7400.  8000. 12300. 19500. 45700. 51100. 29700. 15800.  9700. 10100.\n",
            "  8600.]\n",
            "*****************************\n",
            "[48308. 48200. 41500. 38200. 40600. 39800. 38608. 42300. 44500. 42100.\n",
            " 46000. 46800. 43800. 40900. 39400. 39000. 36700. 41800. 43300. 41300.\n",
            " 47300.]\n"
          ],
          "name": "stdout"
        }
      ]
    }
  ]
}